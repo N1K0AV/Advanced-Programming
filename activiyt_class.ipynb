{
 "cells": [
  {
   "cell_type": "code",
   "execution_count": null,
   "metadata": {},
   "outputs": [],
   "source": [
    "#read file\n",
    "\n",
    "def read_text_file(file_path):\n",
    "    with open(file_path, 'r') as file_alias:\n",
    "                content = file_alias.read()\n",
    "    return content \n",
    "\n",
    "#write text file\n",
    "def write_text_file(file_path, content):\n",
    "    with open (file_path, 'w') as file:\n",
    "        file.write(content)\n",
    "\n",
    "\n",
    "#example usage \n",
    "file_path = 'example.txt'\n",
    "content = read_text_file(file_path)\n",
    "print(content)\n",
    "\n",
    "new_content = 'This is the new content.'\n",
    "write_text_file(file_path, new_content)\n",
    "\n",
    "        "
   ]
  },
  {
   "cell_type": "markdown",
   "metadata": {},
   "source": [
    "JSNO "
   ]
  },
  {
   "cell_type": "code",
   "execution_count": null,
   "metadata": {},
   "outputs": [],
   "source": [
    "import json\n",
    "\n",
    "# read JSON file\n",
    "def read_json_file(file_path):\n",
    "    with open(file_path, 'r')as file :\n",
    "        data = json.load(file)\n",
    "    return data\n",
    "\n",
    "#Write JSON file \n",
    "def write_json_file(file_path, data):\n",
    "    with opem(file_path, 'w')as file:\n",
    "        json.dump(data,file)\n",
    "\n",
    "\n",
    "#Example usage\n",
    "file_path = 'data.json'\n",
    "\n",
    "#Read JSON file\n",
    "data = read_json_file(file_path)\n",
    "print(data)\n",
    "\n",
    "# Modify data\n",
    "data['name'] = 'alice'\n",
    "data['age'] = 25\n",
    "\n",
    "#Write JSON file\n",
    "write_json_file(file_path, data)\n",
    "\n"
   ]
  },
  {
   "cell_type": "code",
   "execution_count": null,
   "metadata": {},
   "outputs": [],
   "source": [
    "import json\n",
    "from pprint import pprint\n",
    "\n",
    "\n",
    "with open(\"sample_data/anscombe.json\", \"r\")as file:\n",
    "  data = json.load(file)\n",
    "\n",
    "print(type(data))\n",
    "pprint(data)"
   ]
  },
  {
   "cell_type": "code",
   "execution_count": 12,
   "metadata": {},
   "outputs": [
    {
     "name": "stdout",
     "output_type": "stream",
     "text": [
      "object size: 232 bytes\n",
      "Pickle size: 52 bytes\n",
      "{'name': 'alice', 'age': 25, 'gender': 'f'}\n"
     ]
    }
   ],
   "source": [
    "import pickle\n",
    "import sys\n",
    "import os\n",
    "\n",
    "#Decorador to get object adn pickle size\n",
    "def get_pickle_size(func):\n",
    "    def wrapper(*args, **kwargs):\n",
    "        #get object size\n",
    "        object_size = sys.getsizeof(args[0])\n",
    "\n",
    "        #Call the function\n",
    "        result = func (*args, **kwargs)\n",
    "\n",
    "        #Get pickle size\n",
    "        pickle_size = os.path.getsize(args[1])\n",
    "\n",
    "        print(f\"object size: {object_size} bytes\")\n",
    "        print(f\"Pickle size: {pickle_size} bytes\")\n",
    "\n",
    "        return result\n",
    "    return wrapper\n",
    "\n",
    "#Read object from pickle size\n",
    "\n",
    "def read_object_from_pickle(pickle_file):\n",
    "    with open(pickle_file, 'rb') as file :\n",
    "        obj = pickle.load(file)\n",
    "    return obj\n",
    "\n",
    "@get_pickle_size\n",
    "def write_object_to_pickle(obj, pickle_file):\n",
    "    with open(pickle_file, 'wb') as file :\n",
    "        pickle.dump(obj, file)\n",
    "\n",
    "\n",
    "#Example usage\n",
    "data = {'name': 'alice' , 'age' : 25, 'gender': 'f'}\n",
    "pickle_file = 'data.pickle'\n",
    "\n",
    "#Write object to  pickle file\n",
    "write_object_to_pickle(data , pickle_file)\n",
    "\n",
    "#read object from pickle file\n",
    "read_data = read_object_from_pickle(pickle_file)\n",
    "print(read_data)\n",
    "\n"
   ]
  },
  {
   "cell_type": "markdown",
   "metadata": {},
   "source": [
    "## Threads"
   ]
  },
  {
   "cell_type": "code",
   "execution_count": 15,
   "metadata": {},
   "outputs": [
    {
     "ename": "NameError",
     "evalue": "name 'thread1' is not defined",
     "output_type": "error",
     "traceback": [
      "\u001b[1;31m---------------------------------------------------------------------------\u001b[0m",
      "\u001b[1;31mNameError\u001b[0m                                 Traceback (most recent call last)",
      "Cell \u001b[1;32mIn[15], line 50\u001b[0m\n\u001b[0;32m     44\u001b[0m     thread3\u001b[38;5;241m.\u001b[39mstart()\n\u001b[0;32m     48\u001b[0m \u001b[38;5;66;03m#Wait for all threds to complete \u001b[39;00m\n\u001b[1;32m---> 50\u001b[0m \u001b[43mthread1\u001b[49m\u001b[38;5;241m.\u001b[39mjoin()\n\u001b[0;32m     51\u001b[0m thread2\u001b[38;5;241m.\u001b[39mjoin()\n\u001b[0;32m     52\u001b[0m thread3\u001b[38;5;241m.\u001b[39mjoin()\n",
      "\u001b[1;31mNameError\u001b[0m: name 'thread1' is not defined"
     ]
    }
   ],
   "source": [
    "import time\n",
    "import threading\n",
    "\n",
    "#time decorator \n",
    "def time_decorator(func):\n",
    "    def wrapper(*args, **kwargs):\n",
    "        start_time = time.time()\n",
    "        result = func(*ârgs, **kwargs)\n",
    "        end_time = time.time()\n",
    "        execution_time = end_time - start_time\n",
    "        print(f\"Execution time: {execution_time} seconds\")\n",
    "        return result\n",
    "    return wrapper\n",
    "\n",
    "#Process without threads\n",
    "\n",
    "@time_decorator\n",
    "def sequential_proces():\n",
    "    #step1\n",
    "    time.sleep(1)\n",
    "    print(\"Step 1 completed\")\n",
    "\n",
    "    #step2\n",
    "    time.sleep(2)\n",
    "    print(\"Step 2 completed\")\n",
    "\n",
    "    #step3\n",
    "    time.sleep(3)\n",
    "    print(\"Step 3 completed\")\n",
    "\n",
    "\n",
    "@time_decorator\n",
    "def parllel_process():\n",
    "    #step 1\n",
    "    thread1 = threding.Thread(target = lambda : time.sleep(1))\n",
    "    thread1.start()\n",
    "\n",
    "    #step 2\n",
    "    thread2 = threding.Thread(target = lambda : time.sleep(2))\n",
    "    thread2.start()\n",
    "\n",
    "    #step 3\n",
    "    thread3 = threding.Thread(target = lambda : time.sleep(3))\n",
    "    thread3.start()\n",
    "\n",
    "\n",
    "\n",
    "#Wait for all threds to complete \n",
    "\n",
    "thread1.join()\n",
    "thread2.join()\n",
    "thread3.join()\n",
    "\n",
    "print(\"all steps completed\")\n",
    "\n",
    "#execute the process\n",
    "sequential_proces()\n",
    "parllel_process\n",
    "\n"
   ]
  }
 ],
 "metadata": {
  "kernelspec": {
   "display_name": "Python 3",
   "language": "python",
   "name": "python3"
  },
  "language_info": {
   "codemirror_mode": {
    "name": "ipython",
    "version": 3
   },
   "file_extension": ".py",
   "mimetype": "text/x-python",
   "name": "python",
   "nbconvert_exporter": "python",
   "pygments_lexer": "ipython3",
   "version": "3.10.4"
  }
 },
 "nbformat": 4,
 "nbformat_minor": 2
}
